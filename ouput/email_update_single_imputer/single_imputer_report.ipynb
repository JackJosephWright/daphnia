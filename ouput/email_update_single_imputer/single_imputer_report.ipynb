{
 "cells": [
  {
   "cell_type": "markdown",
   "metadata": {},
   "source": [
    "Single imputer report:\n",
    "\n",
    "completed several operations working on single daphnia tracking:\n",
    "\n",
    "created a class `NPZer` which will unzip and unpack .npz files output from TRex. for imputation and transformation\n",
    "\n",
    "created a class `TRexDataCleaner` which removes disjoint data points \n",
    "\n",
    "created a class `TRexImputer` which creates a framework for employing different imputation strategies on missing daphina tracking\n",
    "\n",
    "created easy plotting functions for daphnia tracking\n",
    "\n",
    "created framework for estimating maxiumum daphnia velocity used in data cleaning and imputation\n",
    "\n",
    "\n"
   ]
  },
  {
   "cell_type": "code",
   "execution_count": null,
   "metadata": {
    "vscode": {
     "languageId": "plaintext"
    }
   },
   "outputs": [],
   "source": [
    "#main example of the whole process"
   ]
  },
  {
   "cell_type": "markdown",
   "metadata": {},
   "source": [
    "#  NPZer.py\n",
    "\n",
    "<description of what it does>\n",
    "\n",
    "<example usage>\n",
    "\n",
    "\n",
    "<example output (print some tables)>"
   ]
  },
  {
   "cell_type": "markdown",
   "metadata": {},
   "source": [
    "#  TRexDataCleaner.py\n",
    "\n",
    "<description of what it does>\n",
    "\n",
    "<example usage>\n",
    "\n",
    "\n",
    "<example output (print some tables)>"
   ]
  },
  {
   "cell_type": "markdown",
   "metadata": {},
   "source": [
    "#  TRexImputer.py\n",
    "\n",
    "<description of what it does>\n",
    "\n",
    "<example usage>\n",
    "\n",
    "\n",
    "<example output (print some tables)>"
   ]
  },
  {
   "cell_type": "code",
   "execution_count": null,
   "metadata": {
    "vscode": {
     "languageId": "plaintext"
    }
   },
   "outputs": [],
   "source": [
    "# data plotting function\n",
    "\n",
    "<description of what it does>\n",
    "\n",
    "<example usage>\n",
    "\n",
    "\n",
    "<example output (print some tables)>"
   ]
  },
  {
   "cell_type": "code",
   "execution_count": null,
   "metadata": {
    "vscode": {
     "languageId": "plaintext"
    }
   },
   "outputs": [],
   "source": [
    "#estimation function\n",
    "\n",
    "\n",
    "<description of what it does>\n",
    "\n",
    "<example usage>\n",
    "\n",
    "\n",
    "<example output (print some tables)>"
   ]
  }
 ],
 "metadata": {
  "language_info": {
   "name": "python"
  }
 },
 "nbformat": 4,
 "nbformat_minor": 2
}
