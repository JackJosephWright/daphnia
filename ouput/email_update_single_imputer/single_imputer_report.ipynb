{
 "cells": [
  {
   "cell_type": "markdown",
   "metadata": {},
   "source": [
    "Single imputer report:\n",
    "\n",
    "completed several operations working on single daphnia tracking:\n",
    "\n",
    "created a class `NPZer` which will unzip and unpack .npz files output from TRex. for imputation and transformation\n",
    "\n",
    "created a class `TRexDataCleaner` which removes disjoint data points \n",
    "\n",
    "created a class `TRexImputer` which creates a framework for employing different imputation strategies on missing daphina tracking\n",
    "\n",
    "created easy plotting functions for daphnia tracking\n",
    "\n",
    "created framework for estimating maxiumum daphnia velocity used in data cleaning and imputation\n",
    "\n",
    "\n"
   ]
  },
  {
   "cell_type": "code",
   "execution_count": null,
   "metadata": {},
   "outputs": [],
   "source": [
    "#main example of the whole process"
   ]
  },
  {
   "cell_type": "markdown",
   "metadata": {},
   "source": [
    "#  NPZer.py\n",
    "\n",
    "## `NPZer.py` holds the class `NPZer` which is used to unzip a .npz file (output of TRex tracking). This data can be directly converted to a pandas table and subsequently to a .csv file or plotted \n",
    "\n",
    "## Example Usage:"
   ]
  },
  {
   "cell_type": "code",
   "execution_count": null,
   "metadata": {},
   "outputs": [],
   "source": [
    "# Import necessary tools\n",
    "import pandas as pd\n",
    "import numpy as np\n",
    "from src.data_manipulation.NPZer import NPZer\n",
    "\n",
    "NPZer = NPZer()\n",
    "\n",
    "# Set desired parameters\n",
    "SOURCE_DIR = 'data/clean_fish_data/fish_data_clean.csv'\n",
    "INVERT_Y = True\n",
    "PARAMS = ['time', 'X', 'Y']"
   ]
  },
  {
   "cell_type": "code",
   "execution_count": null,
   "metadata": {},
   "outputs": [],
   "source": [
    "# Unzip and turn data into a pandas table\n",
    "unzippedData = NPZer.pandafy(source_dir=SOURCE_DIR,\n",
    "                              invertY=INVERT_Y,\n",
    "                              params=PARAMS)"
   ]
  },
  {
   "cell_type": "code",
   "execution_count": null,
   "metadata": {},
   "outputs": [],
   "source": [
    "# Print data in form of pandas table\n",
    "print('TRex Data:\\n', unzippedData)"
   ]
  },
  {
   "cell_type": "markdown",
   "metadata": {},
   "source": [
    "#  TRexDataCleaner.py\n",
    "\n",
    "## `TRexDataCleaner.py` holds the class `TRexDataCleaner` which is used to clean disjoint data in TRex tracking data for later imputation, i.e., disjoint data points are rendered as `np.inf`\n",
    "\n",
    "## Example Usage"
   ]
  },
  {
   "cell_type": "code",
   "execution_count": null,
   "metadata": {},
   "outputs": [],
   "source": [
    "# Import necessary tools\n",
    "from src.data_manipulation.TRexDataCleaner import TRexDataCleaner\n",
    "\n",
    "dataCleaner = TRexDataCleaner()\n",
    "\n",
    "# Set desired parameters\n",
    "VMAX = 25"
   ]
  },
  {
   "cell_type": "code",
   "execution_count": null,
   "metadata": {},
   "outputs": [],
   "source": [
    "# Set sample of original data\n",
    "originalData = unzippedData[:75]\n",
    "\n",
    "# Print sample of original data\n",
    "print('Original Data:\\n', originalData)"
   ]
  },
  {
   "cell_type": "code",
   "execution_count": null,
   "metadata": {},
   "outputs": [],
   "source": [
    "# Clean data\n",
    "cleanedData = dataCleaner.renderDiscontinuities(data=originalData, vmax=25\n",
    "\n",
    "# Print cleaned data\n",
    "print('Cleaned Data:\\n', cleanedData)"
   ]
  },
  {
   "cell_type": "markdown",
   "metadata": {},
   "source": [
    "#  TRexImputer.py\n",
    "\n",
    "# `TRexImputer.py` holds the class `TRexImputer` which is used to impute/fill in discontinuous TRex data with a desired `impute` function. This should be used with data already cleaned with `TRexDataCleaner`\n",
    "\n",
    "## Example Usage"
   ]
  },
  {
   "cell_type": "code",
   "execution_count": null,
   "metadata": {},
   "outputs": [],
   "source": [
    "# Import necessary tools\n",
    "from src.data_manipulation.TRexImputer import TRexImputer\n",
    "\n",
    "imputer = TRexImputer()\n",
    "\n",
    "# Set desired parameters\n",
    "DATA = cleanedData\n",
    "FUNCTION = 'avgValue'"
   ]
  },
  {
   "cell_type": "code",
   "execution_count": null,
   "metadata": {},
   "outputs": [],
   "source": [
    "# Print original data\n",
    "print('Original Data:\\n', cleanedData)"
   ]
  },
  {
   "cell_type": "code",
   "execution_count": null,
   "metadata": {},
   "outputs": [],
   "source": [
    "# Impute data\n",
    "imputedData = imputer.impute(data=DATA, function=FUNCTION)\n",
    "\n",
    "# Print imputed data\n",
    "print('Imputed Data:\\n', imputedData)"
   ]
  },
  {
   "cell_type": "markdown",
   "metadata": {},
   "source": [
    "# avgValue.py\n",
    "\n",
    "## `avgValue.py` holds the `impute` function which imputes data in between gaps of discontinuous points. The function calculates the velocity between each gap of data, and imputes the respective points according it."
   ]
  },
  {
   "cell_type": "code",
   "execution_count": null,
   "metadata": {},
   "outputs": [],
   "source": [
    "#estimation function\n",
    "\n",
    "\n",
    "<description of what it does>\n",
    "\n",
    "<example usage>\n",
    "\n",
    "\n",
    "<example output (print some tables)>"
   ]
  }
 ],
 "metadata": {
  "kernelspec": {
   "display_name": "Python 3",
   "language": "python",
   "name": "python3"
  },
  "language_info": {
   "codemirror_mode": {
    "name": "ipython",
    "version": 3
   },
   "file_extension": ".py",
   "mimetype": "text/x-python",
   "name": "python",
   "nbconvert_exporter": "python",
   "pygments_lexer": "ipython3",
   "version": "3.9.6"
  }
 },
 "nbformat": 4,
 "nbformat_minor": 2
}
