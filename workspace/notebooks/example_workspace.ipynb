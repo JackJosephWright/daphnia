{
 "cells": [
  {
   "cell_type": "markdown",
   "metadata": {},
   "source": [
    "# Example workflow with this project's packages\n",
    "\n",
    "\n",
    "This is a walkthrough of how to use the `daphnia` data mutation and transformation functions to perform various operations on `.NPZ` files from `TRex` animal tracking software:\n",
    "\n",
    "\n",
    "### Workflow\n",
    "\n",
    "* convert `.npz` output files into pandas dataframes with `NPZer`\n",
    "\n",
    "* clean TRex data by removing invalid data, such as sudden jumps or missing data points with `TRexDataCleaner`\n",
    "\n",
    "* Impute missing data with `TRexDataImputer` and relevant imputation methods\n",
    "\n",
    "* visualize daphnia tracking with `visualizer`"
   ]
  },
  {
   "cell_type": "markdown",
   "metadata": {},
   "source": [
    "## Importing relevant packages\n",
    "\n",
    "\n",
    "copy the following code into a jupyter notebook `code` cell at the top of your notebook to import the relevant packages\n",
    "\n"
   ]
  },
  {
   "cell_type": "code",
   "execution_count": 3,
   "metadata": {},
   "outputs": [],
   "source": [
    "# Import necessary tools\n",
    "import pandas as pd\n",
    "import numpy as np\n",
    "import sys\n",
    "import os\n",
    "\n",
    "# Declare root path for accessing package\n",
    "sys.path.append(os.path.abspath(os.path.join('..', '..')))\n",
    "\n",
    "# import module\n",
    "from src.data_manipulation.NPZer import NPZer\n",
    "from src.data_manipulation.TRexDataCleaner import TRexDataCleaner\n",
    "from src.data_manipulation.TRexImputer import TRexImputer\n",
    "\n",
    "\n",
    "#Instantiate NPZer\n",
    "NPZer = NPZer()\n",
    "\n",
    "# Set desired parameters (\"../../\" to access root directory since we are 2 folders deep and data is in root)\n",
    "SOURCE_DIR = '../../data/npz_file/single_7_9_fish1.MP4_fish0.npz'\n",
    "INVERT_Y = True\n",
    "PARAMS = ['time', 'X', 'Y']"
   ]
  },
  {
   "cell_type": "markdown",
   "metadata": {},
   "source": [
    "Below are code examples for each operation. Copy the code into a jupyter notebook inside the `workspace/notebooks` folder and place new data inside `workspace/data` to process new data"
   ]
  },
  {
   "cell_type": "markdown",
   "metadata": {},
   "source": [
    "## NPZ file to pandas DataFrame\n",
    "\n"
   ]
  },
  {
   "cell_type": "code",
   "execution_count": null,
   "metadata": {},
   "outputs": [],
   "source": [
    "#code"
   ]
  },
  {
   "cell_type": "markdown",
   "metadata": {},
   "source": [
    "## Clean pandas.DataFrame of Invalid Data\n"
   ]
  },
  {
   "cell_type": "code",
   "execution_count": 1,
   "metadata": {},
   "outputs": [],
   "source": [
    "#code"
   ]
  },
  {
   "cell_type": "markdown",
   "metadata": {},
   "source": [
    "## Impute missing data with an imputation method"
   ]
  },
  {
   "cell_type": "code",
   "execution_count": null,
   "metadata": {},
   "outputs": [],
   "source": [
    "# code"
   ]
  },
  {
   "cell_type": "markdown",
   "metadata": {},
   "source": [
    "## Data visualization"
   ]
  },
  {
   "cell_type": "code",
   "execution_count": 2,
   "metadata": {},
   "outputs": [],
   "source": [
    "# code\n"
   ]
  }
 ],
 "metadata": {
  "kernelspec": {
   "display_name": "base",
   "language": "python",
   "name": "python3"
  },
  "language_info": {
   "codemirror_mode": {
    "name": "ipython",
    "version": 3
   },
   "file_extension": ".py",
   "mimetype": "text/x-python",
   "name": "python",
   "nbconvert_exporter": "python",
   "pygments_lexer": "ipython3",
   "version": "3.12.4"
  }
 },
 "nbformat": 4,
 "nbformat_minor": 2
}
