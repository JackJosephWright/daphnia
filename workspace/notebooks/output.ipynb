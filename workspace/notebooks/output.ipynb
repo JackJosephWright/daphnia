{
 "cells": [
  {
   "cell_type": "markdown",
   "metadata": {},
   "source": [
    "## NPZer"
   ]
  },
  {
   "cell_type": "markdown",
   "metadata": {},
   "source": [
    "### Delcare variables and import tools"
   ]
  },
  {
   "cell_type": "code",
   "execution_count": 1,
   "metadata": {},
   "outputs": [],
   "source": [
    "# Import necessary tools\n",
    "import pandas as pd\n",
    "import numpy as np\n",
    "import sys\n",
    "import os\n",
    "\n",
    "# Declare root path for accessing package\n",
    "sys.path.append(os.path.abspath(os.path.join('..', '..')))\n",
    "\n",
    "# import module\n",
    "from src.data_manipulation.NPZer import NPZer\n",
    "\n",
    "#Instantiate NPZer\n",
    "NPZer = NPZer()\n",
    "\n",
    "# Set desired parameters (\"../../\" to access root directory since we are 2 folders deep and data is in root)\n",
    "SOURCE_DIR = '../../data/npz_file/single_7_9_fish1.MP4_fish0.npz'\n",
    "INVERT_Y = True\n",
    "PARAMS = ['time', 'X', 'Y']"
   ]
  },
  {
   "cell_type": "markdown",
   "metadata": {},
   "source": [
    "### NPZer.pandafy"
   ]
  },
  {
   "cell_type": "code",
   "execution_count": 2,
   "metadata": {},
   "outputs": [
    {
     "name": "stdout",
     "output_type": "stream",
     "text": [
      "TRex Data:\n",
      "              time          X         Y\n",
      "0        0.000000  23.536650 -1.792803\n",
      "1        0.016949  23.517750 -1.792841\n",
      "2        0.033898  23.517750 -1.792841\n",
      "3        0.050847  23.517750 -1.792841\n",
      "4        0.067796  23.517750 -1.792841\n",
      "...           ...        ...       ...\n",
      "10817  183.338989  19.579285 -6.965172\n",
      "10818  183.355927  19.569004 -6.989434\n",
      "10819  183.372879  19.588287 -7.017863\n",
      "10820  183.389832  19.577187 -7.083682\n",
      "10821  183.406784  19.577187 -7.083682\n",
      "\n",
      "[10822 rows x 3 columns]\n"
     ]
    }
   ],
   "source": [
    "# Unzip and turn data into a pandas table\n",
    "unzippedData = NPZer.pandafy(source_dir=SOURCE_DIR,\n",
    "                              invertY=INVERT_Y,\n",
    "                              params=PARAMS)\n",
    "\n",
    "# Print data in form of pandas table\n",
    "print('TRex Data:\\n', unzippedData)"
   ]
  },
  {
   "cell_type": "markdown",
   "metadata": {},
   "source": [
    "### NPZer.zipNPZ"
   ]
  },
  {
   "cell_type": "code",
   "execution_count": null,
   "metadata": {},
   "outputs": [],
   "source": [
    "# Zip unzipped data back into a .npz file\n",
    "SAVE_DIR = '../data/zipped.npz'\n",
    "NPZer.npzip(data=unzippedData, save_dir=SAVE_DIR)"
   ]
  },
  {
   "cell_type": "markdown",
   "metadata": {},
   "source": [
    "## TRexDataCleaner"
   ]
  },
  {
   "cell_type": "markdown",
   "metadata": {},
   "source": [
    "### Declare variables and import tools"
   ]
  },
  {
   "cell_type": "code",
   "execution_count": null,
   "metadata": {},
   "outputs": [],
   "source": [
    "# Import necessary tools\n",
    "from src.data_manipulation.TRexDataCleaner import TRexDataCleaner\n",
    "\n",
    "# Instantiate TRexDataCleaner\n",
    "dataCleaner = TRexDataCleaner()\n",
    "\n",
    "# Set desired parameters\n",
    "VMAX = 15"
   ]
  },
  {
   "cell_type": "markdown",
   "metadata": {},
   "source": [
    "# TRexDataCleaner.renderDiscontinuities"
   ]
  },
  {
   "cell_type": "code",
   "execution_count": null,
   "metadata": {},
   "outputs": [],
   "source": [
    "# Clean Data\n",
    "cleanedData, removedData = dataCleaner.renderDiscontinuities(data=unzippedData, vmax=VMAX)\n",
    "\n",
    "# Print cleaned data\n",
    "print(cleanedData)"
   ]
  },
  {
   "cell_type": "markdown",
   "metadata": {},
   "source": [
    "## TRexImputer"
   ]
  },
  {
   "cell_type": "markdown",
   "metadata": {},
   "source": [
    "### Declare variables and import tools"
   ]
  },
  {
   "cell_type": "code",
   "execution_count": 4,
   "metadata": {},
   "outputs": [
    {
     "ename": "FileNotFoundError",
     "evalue": "Directory /Users/gvitale/Documents/GitHub/daphnia/workspace/notebooks/src/data_manipulation/imputation_strategies does not exist.",
     "output_type": "error",
     "traceback": [
      "\u001b[0;31m---------------------------------------------------------------------------\u001b[0m",
      "\u001b[0;31mFileNotFoundError\u001b[0m                         Traceback (most recent call last)",
      "\u001b[1;32m/Users/gvitale/Documents/GitHub/daphnia/workspace/notebooks/output.ipynb Cell 15\u001b[0m line \u001b[0;36m4\n\u001b[1;32m      <a href='vscode-notebook-cell:/Users/gvitale/Documents/GitHub/daphnia/workspace/notebooks/output.ipynb#X24sZmlsZQ%3D%3D?line=0'>1</a>\u001b[0m \u001b[39m# Import necessary tools\u001b[39;00m\n\u001b[1;32m      <a href='vscode-notebook-cell:/Users/gvitale/Documents/GitHub/daphnia/workspace/notebooks/output.ipynb#X24sZmlsZQ%3D%3D?line=1'>2</a>\u001b[0m \u001b[39mfrom\u001b[39;00m \u001b[39msrc\u001b[39;00m\u001b[39m.\u001b[39;00m\u001b[39mdata_manipulation\u001b[39;00m\u001b[39m.\u001b[39;00m\u001b[39mTRexImputer\u001b[39;00m \u001b[39mimport\u001b[39;00m TRexImputer\n\u001b[0;32m----> <a href='vscode-notebook-cell:/Users/gvitale/Documents/GitHub/daphnia/workspace/notebooks/output.ipynb#X24sZmlsZQ%3D%3D?line=3'>4</a>\u001b[0m imputer \u001b[39m=\u001b[39m TRexImputer()\n\u001b[1;32m      <a href='vscode-notebook-cell:/Users/gvitale/Documents/GitHub/daphnia/workspace/notebooks/output.ipynb#X24sZmlsZQ%3D%3D?line=5'>6</a>\u001b[0m \u001b[39m# Set desired parameters\u001b[39;00m\n\u001b[1;32m      <a href='vscode-notebook-cell:/Users/gvitale/Documents/GitHub/daphnia/workspace/notebooks/output.ipynb#X24sZmlsZQ%3D%3D?line=6'>7</a>\u001b[0m DATA \u001b[39m=\u001b[39m cleanedData\n",
      "File \u001b[0;32m~/Documents/GitHub/daphnia/src/data_manipulation/TRexImputer.py:54\u001b[0m, in \u001b[0;36mTRexImputer.__init__\u001b[0;34m(self, strategy_dir)\u001b[0m\n\u001b[1;32m     52\u001b[0m strategy_dir_path \u001b[39m=\u001b[39m os\u001b[39m.\u001b[39mpath\u001b[39m.\u001b[39mabspath(os\u001b[39m.\u001b[39mpath\u001b[39m.\u001b[39mjoin(\u001b[39m'\u001b[39m\u001b[39msrc\u001b[39m\u001b[39m'\u001b[39m, \u001b[39m'\u001b[39m\u001b[39mdata_manipulation\u001b[39m\u001b[39m'\u001b[39m, strategy_dir))\n\u001b[1;32m     53\u001b[0m \u001b[39mif\u001b[39;00m \u001b[39mnot\u001b[39;00m os\u001b[39m.\u001b[39mpath\u001b[39m.\u001b[39mexists(strategy_dir_path):\n\u001b[0;32m---> 54\u001b[0m     \u001b[39mraise\u001b[39;00m \u001b[39mFileNotFoundError\u001b[39;00m(\u001b[39mf\u001b[39m\u001b[39m\"\u001b[39m\u001b[39mDirectory \u001b[39m\u001b[39m{\u001b[39;00mstrategy_dir_path\u001b[39m}\u001b[39;00m\u001b[39m does not exist.\u001b[39m\u001b[39m\"\u001b[39m)\n\u001b[1;32m     56\u001b[0m \u001b[39mfor\u001b[39;00m filename \u001b[39min\u001b[39;00m os\u001b[39m.\u001b[39mlistdir(strategy_dir_path):\n\u001b[1;32m     57\u001b[0m     \u001b[39mif\u001b[39;00m filename\u001b[39m.\u001b[39mendswith(\u001b[39m'\u001b[39m\u001b[39m.py\u001b[39m\u001b[39m'\u001b[39m):\n",
      "\u001b[0;31mFileNotFoundError\u001b[0m: Directory /Users/gvitale/Documents/GitHub/daphnia/workspace/notebooks/src/data_manipulation/imputation_strategies does not exist."
     ]
    }
   ],
   "source": [
    "# Import necessary tools\n",
    "from src.data_manipulation.TRexImputer import TRexImputer\n",
    "\n",
    "imputer = TRexImputer()\n",
    "\n",
    "# Set desired parameters\n",
    "DATA = cleanedData\n",
    "FUNCTION = 'avgValue'"
   ]
  },
  {
   "cell_type": "markdown",
   "metadata": {},
   "source": [
    "### TRexImputer.impute"
   ]
  },
  {
   "cell_type": "code",
   "execution_count": 3,
   "metadata": {},
   "outputs": [
    {
     "ename": "NameError",
     "evalue": "name 'imputer' is not defined",
     "output_type": "error",
     "traceback": [
      "\u001b[0;31m---------------------------------------------------------------------------\u001b[0m",
      "\u001b[0;31mNameError\u001b[0m                                 Traceback (most recent call last)",
      "\u001b[1;32m/Users/gvitale/Documents/GitHub/daphnia/workspace/notebooks/output.ipynb Cell 17\u001b[0m line \u001b[0;36m2\n\u001b[1;32m      <a href='vscode-notebook-cell:/Users/gvitale/Documents/GitHub/daphnia/workspace/notebooks/output.ipynb#X30sZmlsZQ%3D%3D?line=0'>1</a>\u001b[0m \u001b[39m# Impute data\u001b[39;00m\n\u001b[0;32m----> <a href='vscode-notebook-cell:/Users/gvitale/Documents/GitHub/daphnia/workspace/notebooks/output.ipynb#X30sZmlsZQ%3D%3D?line=1'>2</a>\u001b[0m imputedData \u001b[39m=\u001b[39m imputer\u001b[39m.\u001b[39mimpute(data\u001b[39m=\u001b[39mDATA, function\u001b[39m=\u001b[39mFUNCTION)\n\u001b[1;32m      <a href='vscode-notebook-cell:/Users/gvitale/Documents/GitHub/daphnia/workspace/notebooks/output.ipynb#X30sZmlsZQ%3D%3D?line=3'>4</a>\u001b[0m \u001b[39m# Print imputed data\u001b[39;00m\n\u001b[1;32m      <a href='vscode-notebook-cell:/Users/gvitale/Documents/GitHub/daphnia/workspace/notebooks/output.ipynb#X30sZmlsZQ%3D%3D?line=4'>5</a>\u001b[0m \u001b[39mprint\u001b[39m(\u001b[39m'\u001b[39m\u001b[39mImputed Data:\u001b[39m\u001b[39m\\n\u001b[39;00m\u001b[39m'\u001b[39m, imputedData)\n",
      "\u001b[0;31mNameError\u001b[0m: name 'imputer' is not defined"
     ]
    }
   ],
   "source": [
    "# Impute data\n",
    "imputedData = imputer.impute(data=DATA, function=FUNCTION)\n",
    "\n",
    "# Print imputed data\n",
    "print('Imputed Data:\\n', imputedData)"
   ]
  }
 ],
 "metadata": {
  "kernelspec": {
   "display_name": "Python 3",
   "language": "python",
   "name": "python3"
  },
  "language_info": {
   "codemirror_mode": {
    "name": "ipython",
    "version": 3
   },
   "file_extension": ".py",
   "mimetype": "text/x-python",
   "name": "python",
   "nbconvert_exporter": "python",
   "pygments_lexer": "ipython3",
   "version": "3.9.6"
  }
 },
 "nbformat": 4,
 "nbformat_minor": 2
}
