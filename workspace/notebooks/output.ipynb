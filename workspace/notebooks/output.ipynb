{
 "cells": [
  {
   "cell_type": "markdown",
   "metadata": {},
   "source": [
    "## NPZer"
   ]
  },
  {
   "cell_type": "markdown",
   "metadata": {},
   "source": [
    "### Delcare variables and import tools"
   ]
  },
  {
   "cell_type": "code",
   "execution_count": 1,
   "metadata": {},
   "outputs": [],
   "source": [
    "# Import necessary tools\n",
    "import pandas as pd\n",
    "import numpy as np\n",
    "import sys\n",
    "import os\n",
    "\n",
    "# Declare root path for accessing package\n",
    "sys.path.append(os.path.abspath(os.path.join('..', '..')))\n",
    "\n",
    "# import module\n",
    "from src.data_manipulation.NPZer import NPZer\n",
    "\n",
    "#Instantiate NPZer\n",
    "NPZer = NPZer()\n",
    "\n",
    "# Set desired parameters (\"../../\" to access root directory since we are 2 folders deep and data is in root)\n",
    "SOURCE_DIR = '../../data/npz_file/single_7_9_fish1.MP4_fish0.npz'\n",
    "INVERT_Y = True\n",
    "PARAMS = ['time', 'X', 'Y']"
   ]
  },
  {
   "cell_type": "markdown",
   "metadata": {},
   "source": [
    "### NPZer.pandafy"
   ]
  },
  {
   "cell_type": "code",
   "execution_count": 2,
   "metadata": {},
   "outputs": [
    {
     "name": "stdout",
     "output_type": "stream",
     "text": [
      "TRex Data:\n",
      "              time          X         Y\n",
      "0        0.000000  23.536650 -1.792803\n",
      "1        0.016949  23.517750 -1.792841\n",
      "2        0.033898  23.517750 -1.792841\n",
      "3        0.050847  23.517750 -1.792841\n",
      "4        0.067796  23.517750 -1.792841\n",
      "...           ...        ...       ...\n",
      "10817  183.338989  19.579285 -6.965172\n",
      "10818  183.355927  19.569004 -6.989434\n",
      "10819  183.372879  19.588287 -7.017863\n",
      "10820  183.389832  19.577187 -7.083682\n",
      "10821  183.406784  19.577187 -7.083682\n",
      "\n",
      "[10822 rows x 3 columns]\n"
     ]
    }
   ],
   "source": [
    "# Unzip and turn data into a pandas table\n",
    "unzippedData = NPZer.pandafy(source_dir=SOURCE_DIR,\n",
    "                              invertY=INVERT_Y,\n",
    "                              params=PARAMS)\n",
    "\n",
    "# Print data in form of pandas table\n",
    "print('TRex Data:\\n', unzippedData)"
   ]
  },
  {
   "cell_type": "markdown",
   "metadata": {},
   "source": [
    "### NPZer.zipNPZ"
   ]
  },
  {
   "cell_type": "code",
   "execution_count": null,
   "metadata": {},
   "outputs": [],
   "source": [
    "# Zip unzipped data back into a .npz file\n",
    "SAVE_DIR = '../data/zipped.npz'\n",
    "NPZer.npzip(data=unzippedData, save_dir=SAVE_DIR)"
   ]
  },
  {
   "cell_type": "markdown",
   "metadata": {},
   "source": [
    "## TRexDataCleaner"
   ]
  },
  {
   "cell_type": "markdown",
   "metadata": {},
   "source": [
    "### Declare variables and import tools"
   ]
  },
  {
   "cell_type": "code",
   "execution_count": null,
   "metadata": {},
   "outputs": [],
   "source": [
    "# Import necessary tools\n",
    "from src.data_manipulation.TRexDataCleaner import TRexDataCleaner\n",
    "\n",
    "# Instantiate TRexDataCleaner\n",
    "dataCleaner = TRexDataCleaner()\n",
    "\n",
    "# Set desired parameters\n",
    "VMAX = 15"
   ]
  },
  {
   "cell_type": "markdown",
   "metadata": {},
   "source": [
    "# TRexDataCleaner.renderDiscontinuities"
   ]
  },
  {
   "cell_type": "code",
   "execution_count": null,
   "metadata": {},
   "outputs": [],
   "source": [
    "# Clean Data\n",
    "cleanedData, removedData = dataCleaner.renderDiscontinuities(data=unzippedData, vmax=VMAX)\n",
    "\n",
    "# Print cleaned data\n",
    "print(cleanedData)"
   ]
  },
  {
   "cell_type": "markdown",
   "metadata": {},
   "source": [
    "## TRexImputer"
   ]
  },
  {
   "cell_type": "markdown",
   "metadata": {},
   "source": [
    "### Declare variables and import toos"
   ]
  },
  {
   "cell_type": "code",
   "execution_count": null,
   "metadata": {},
   "outputs": [],
   "source": []
  }
 ],
 "metadata": {
  "kernelspec": {
   "display_name": "Python 3",
   "language": "python",
   "name": "python3"
  },
  "language_info": {
   "codemirror_mode": {
    "name": "ipython",
    "version": 3
   },
   "file_extension": ".py",
   "mimetype": "text/x-python",
   "name": "python",
   "nbconvert_exporter": "python",
   "pygments_lexer": "ipython3",
   "version": "3.9.6"
  }
 },
 "nbformat": 4,
 "nbformat_minor": 2
}
