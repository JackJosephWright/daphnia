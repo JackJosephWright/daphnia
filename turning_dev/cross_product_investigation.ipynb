{
 "cells": [
  {
   "cell_type": "code",
   "execution_count": 2,
   "metadata": {},
   "outputs": [
    {
     "data": {
      "text/plain": [
       "array([ 0,  0, -2])"
      ]
     },
     "execution_count": 2,
     "metadata": {},
     "output_type": "execute_result"
    }
   ],
   "source": [
    "import numpy as np\n",
    "\n",
    "a = (0,1,0)\n",
    "b= (2,0,0)\n",
    "\n",
    "np.cross(a,b)"
   ]
  },
  {
   "cell_type": "code",
   "execution_count": null,
   "metadata": {},
   "outputs": [],
   "source": [
    "def determine_turning_direction(df):\n",
    "    \"\"\"\n",
    "    Determine the turning direction (left or right) of the Daphnia and return counts.\n",
    "    \n",
    "    Parameters:\n",
    "    df (pd.DataFrame): The input dataframe containing 'X' and 'Y' columns representing positions.\n",
    "    \n",
    "    Returns:\n",
    "    dict: A dictionary with the counts of 'Left', 'Right', and 'Straight' turns.\n",
    "    \"\"\"\n",
    "    # Initialize a dictionary to count the directions\n",
    "    turn_counts = {'Left': 0, 'Right': 0, 'Straight': 0}\n",
    "    \n",
    "    for i in range(1, len(df) - 1):\n",
    "        # Vector from point n-1 to n\n",
    "        #check if vector is na\n",
    "     \n",
    "        #if any are NA skip\n",
    "        if np.isnan(df['X'].iloc[i]) or np.isnan(df['Y'].iloc[i]) or np.isnan(df['X'].iloc[i-1]) or np.isnan(df['Y'].iloc[i-1]) or np.isnan(df['X'].iloc[i+1]) or np.isnan(df['Y'].iloc[i+1]):\n",
    "            print('one vector is na')\n",
    "            continue\n",
    "        else:\n",
    "\n",
    "            #make them all 3d and take z\n",
    "            vector_1 = np.array([df['X'].iloc[i] - df['X'].iloc[i-1], \n",
    "                                df['Y'].iloc[i] - df['Y'].iloc[i-1]],\n",
    "                                0)\n",
    "            \n",
    "            # Vector from point n to n+1\n",
    "            vector_2 = np.array([df['X'].iloc[i+1] - df['X'].iloc[i], \n",
    "                                df['Y'].iloc[i+1] - df['Y'].iloc[i]],\n",
    "                                0)\n",
    "            \n",
    "            # Calculate the cross product (only the z-component is needed for 2D)\n",
    "            cross_product = np.cross(vector_1, vector_2)\n",
    "            \n",
    "            # Determine direction based on the sign of the cross product and update the count\n",
    "            if cross_product > 0:\n",
    "                turn_counts['Left'] += 1\n",
    "            elif cross_product < 0:\n",
    "                turn_counts['Right'] += 1\n",
    "            else:\n",
    "                turn_counts['Straight'] += 1\n",
    "        \n",
    "    return turn_counts\n"
   ]
  },
  {
   "cell_type": "code",
   "execution_count": 6,
   "metadata": {},
   "outputs": [],
   "source": [
    "def calculate_dtheta(vector1, vector2):\n",
    "    cross_product = np.cross(vector1, vector2)\n",
    "            \n",
    "    # # Determine direction based on the sign of the cross product and update the count\n",
    "    # if cross_product > 0:\n",
    "    #     turn_counts['Left'] += 1\n",
    "    # elif cross_product < 0:\n",
    "    #     turn_counts['Right'] += 1\n",
    "    # else:\n",
    "    #     turn_counts['Straight'] += 1\n",
    "\n",
    "    \n",
    "    #small angle increment\n",
    "    def mag(v):\n",
    "        return np.sqrt(np.dot(v, v))\n",
    "    vectorlist = [vector1, vector2]\n",
    "    magA  = mag(vector1)\n",
    "    magB = mag(vector2)\n",
    "    dtheta = np.arcsin(cross_product[2]/(magA*magB))\n",
    "    return dtheta"
   ]
  },
  {
   "cell_type": "code",
   "execution_count": 12,
   "metadata": {},
   "outputs": [
    {
     "data": {
      "text/plain": [
       "np.float64(-1.5707963267948966)"
      ]
     },
     "execution_count": 12,
     "metadata": {},
     "output_type": "execute_result"
    }
   ],
   "source": [
    "a = (0,1,0)\n",
    "b = (2,0,0)\n",
    "direction(a,b)"
   ]
  },
  {
   "cell_type": "code",
   "execution_count": null,
   "metadata": {},
   "outputs": [],
   "source": [
    "def running_sum(df):\n",
    "    dtheta_list = []\n",
    "    dtheta =  0\n",
    "\n",
    "    for i in range(1, len(df) - 1):\n",
    "        # Vector from point n-1 to n\n",
    "        #check if vector is na\n",
    "     \n",
    "        #if any are NA skip\n",
    "        if np.isnan(df['X'].iloc[i]) or np.isnan(df['Y'].iloc[i]) or np.isnan(df['X'].iloc[i-1]) or np.isnan(df['Y'].iloc[i-1]) or np.isnan(df['X'].iloc[i+1]) or np.isnan(df['Y'].iloc[i+1]):\n",
    "            print('one vector is na')\n",
    "            continue\n",
    "        else:\n",
    "            vector_1  = np.array([df['X'].iloc[i] - df['X'].iloc[i-1], \n",
    "                                df['Y'].iloc[i] - df['Y'].iloc[i-1]],\n",
    "                                0)\n",
    "            vector_2 = np.array([df['X'].iloc[i+1] - df['X'].iloc[i], \n",
    "                                df['Y'].iloc[i+1] - df['Y'].iloc[i]],\n",
    "                                0)\n",
    "            single_theta = calculate_dtheta(vector_1, vector_2)\n",
    "            dtheta += single_theta\n",
    "            dtheta_list.append(dtheta)\n",
    "    return dtheta_list\n",
    "\n",
    "            "
   ]
  },
  {
   "cell_type": "code",
   "execution_count": 2,
   "metadata": {},
   "outputs": [
    {
     "data": {
      "text/plain": [
       "array([0, 0, 1])"
      ]
     },
     "execution_count": 2,
     "metadata": {},
     "output_type": "execute_result"
    }
   ],
   "source": [
    "a = [1,0,0]\n",
    "b = [0,1,0]\n",
    "import numpy as np\n",
    "np.cross(a,b)"
   ]
  }
 ],
 "metadata": {
  "kernelspec": {
   "display_name": "Python 3",
   "language": "python",
   "name": "python3"
  },
  "language_info": {
   "codemirror_mode": {
    "name": "ipython",
    "version": 3
   },
   "file_extension": ".py",
   "mimetype": "text/x-python",
   "name": "python",
   "nbconvert_exporter": "python",
   "pygments_lexer": "ipython3",
   "version": "3.12.4"
  }
 },
 "nbformat": 4,
 "nbformat_minor": 2
}
